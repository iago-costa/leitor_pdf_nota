{
  "nbformat": 4,
  "nbformat_minor": 0,
  "metadata": {
    "colab": {
      "name": "leitor_pdf_nota.ipynb",
      "provenance": []
    },
    "kernelspec": {
      "name": "python3",
      "display_name": "Python 3"
    },
    "language_info": {
      "name": "python"
    }
  },
  "cells": [
    {
      "cell_type": "markdown",
      "metadata": {
        "id": "eGVe4VsgK1Tr"
      },
      "source": [
        "Script leitor de pdf de notas de corretagem para salvar planilhas automáticas"
      ]
    },
    {
      "cell_type": "markdown",
      "metadata": {
        "id": "9msrDmslLNmD"
      },
      "source": [
        "# Lendo PDF e salvando em texto"
      ]
    },
    {
      "cell_type": "code",
      "metadata": {
        "colab": {
          "base_uri": "https://localhost:8080/"
        },
        "id": "1TXv6oO2Mccn",
        "outputId": "c47cc514-9937-488d-91c6-079cd23e5355"
      },
      "source": [
        "!apt install libpoppler-cpp-dev\n",
        "!pip install pdftotext\n",
        "!pip install numpy"
      ],
      "execution_count": null,
      "outputs": [
        {
          "output_type": "stream",
          "name": "stdout",
          "text": [
            "Reading package lists... Done\n",
            "Building dependency tree       \n",
            "Reading state information... Done\n",
            "libpoppler-cpp-dev is already the newest version (0.62.0-2ubuntu2.12).\n",
            "0 upgraded, 0 newly installed, 0 to remove and 40 not upgraded.\n",
            "Requirement already satisfied: pdftotext in /usr/local/lib/python3.7/dist-packages (2.2.0)\n",
            "Requirement already satisfied: numpy in /usr/local/lib/python3.7/dist-packages (1.19.5)\n"
          ]
        }
      ]
    },
    {
      "cell_type": "code",
      "metadata": {
        "id": "8hcj1xTWKvL0"
      },
      "source": [
        "\n",
        "import pdftotext\n",
        "\n",
        "# Load your PDF\n",
        "with open(\"/content/drive/MyDrive/Investimento/Imposto/Notas/2021/TERRA/OUT/nota.pdf\", \"rb\") as f:\n",
        "  pdf = pdftotext.PDF(f)\n",
        "\n",
        "# Save all text to a txt file.\n",
        "with open('/content/drive/MyDrive/Investimento/Imposto/Notas/2021/TERRA/OUT/output.txt', 'w') as f:\n",
        "  f.write(\"\\n\\n\".join(pdf)) "
      ],
      "execution_count": null,
      "outputs": []
    },
    {
      "cell_type": "markdown",
      "metadata": {
        "id": "eDTXD9J9LWdp"
      },
      "source": [
        "# Ler linhas do txt"
      ]
    },
    {
      "cell_type": "code",
      "metadata": {
        "colab": {
          "base_uri": "https://localhost:8080/"
        },
        "id": "tqx6q5IFO3Tq",
        "outputId": "b00d2ba6-1278-4eea-d62a-e697a686103d"
      },
      "source": [
        "scrap_lines = []\n",
        "with open(\"/content/drive/MyDrive/Investimento/Imposto/Notas/2021/TERRA/OUT/output.txt\") as file:\n",
        "    for line in file:\n",
        "        if \"Tipo Mercado\".lower() in last_line.lower():\n",
        "          tipo_mercado_ii = last_line.split(\" \")\n",
        "          tipo_mercado_ii = list(filter(None, tipo_mercado_ii))\n",
        "          print(tipo_mercado_ii)\n",
        "          # scrap_lines.append(tipo_mercado_ii)\n",
        "          tipo_mercado = line.split(\" \")\n",
        "          tipo_mercado = list(filter(None, tipo_mercado))\n",
        "          print(tipo_mercado)\n",
        "          scrap_lines.append(tipo_mercado[2])\n",
        "\n",
        "        last_line = line\n",
        "\n",
        "        if \"Líquido das operações\".lower() in line.lower():\n",
        "          liquido_oparacoes = line.split(\" \")\n",
        "          liquido_oparacoes = list(filter(None, liquido_oparacoes))\n",
        "          print(liquido_oparacoes)\n",
        "          # scrap_lines.append(-liquido_oparacoes[-2])\n",
        "          if liquido_oparacoes[-1] == 'D\\n':\n",
        "            scrap_lines.append('-'+liquido_oparacoes[-2])\n",
        "          if liquido_oparacoes[-1] == 'C\\n':\n",
        "            scrap_lines.append('+'+liquido_oparacoes[-2])\n",
        "\n",
        "        if \"Total CBLC\".lower() in line.lower():\n",
        "          cblc = line.split(\" \")\n",
        "          cblc = list(filter(None, cblc))\n",
        "          print(cblc)\n",
        "          # scrap_lines.append(-cblc[-2])\n",
        "          if cblc[-1] == 'D\\n':\n",
        "            scrap_lines.append('-'+cblc[-2])\n",
        "          if cblc[-1] == 'C\\n':\n",
        "            scrap_lines.append('+'+cblc[-2])\n",
        "\n",
        "        if \"Total Bovespa\".lower() in line.lower():\n",
        "          corretagem_bovespa = line.split(\" \")\n",
        "          corretagem_bovespa = list(filter(None, corretagem_bovespa))\n",
        "          print(corretagem_bovespa)\n",
        "          # scrap_lines.append(corretagem_bovespa[-2])\n",
        "          if corretagem_bovespa[-1] == 'D\\n':\n",
        "            scrap_lines.append('-'+corretagem_bovespa[-2])\n",
        "          if corretagem_bovespa[-1] == 'C\\n':\n",
        "            scrap_lines.append('+'+corretagem_bovespa[-2])\n",
        "\n",
        "        if \"Total Corretagem\".lower() in line.lower():\n",
        "          total_corretagem = line.split(\" \")\n",
        "          total_corretagem = list(filter(None, total_corretagem))\n",
        "          print(total_corretagem)\n",
        "          # print(tipo_mercado[2])\n",
        "          # scrap_lines.append(total_corretagem[-2])\n",
        "          if total_corretagem[-1] == 'D\\n':\n",
        "            scrap_lines.append('-'+total_corretagem[-2])\n",
        "\n",
        "          if total_corretagem[-1] == 'C\\n':\n",
        "            scrap_lines.append('+'+total_corretagem[-2])\n",
        "          soma_despesas_totais = float(cblc[-2].replace('|', '').replace(',', '.'))+\\\n",
        "            float(corretagem_bovespa[-2].replace('|', '').replace(',', '.'))+\\\n",
        "            float(total_corretagem[-2].replace('|', '').replace(',', '.'))\n",
        "          scrap_lines.append(str(soma_despesas_totais))\n",
        "\n",
        "        if \"Líquido para\".lower() in line.lower():\n",
        "          liquido_operacao = line.split(\" \")\n",
        "          liquido_operacao = list(filter(None, liquido_operacao))\n",
        "          print(liquido_operacao)\n",
        "          # scrap_lines.append(liquido_operacao[-2])\n",
        "          if corretagem_bovespa[-1] == 'D\\n':\n",
        "            scrap_lines.append('-'+liquido_operacao[-2])\n",
        "            if tipo_mercado[2] == 'OPCAO': \n",
        "              # print(float(liquido_operacao[-2].replace('|', '').replace(',', '.')))\n",
        "              scrap_lines.append(str(float(liquido_operacao[-2].replace('|', '').replace(',', '.'))*0.15))\n",
        "            else:\n",
        "              scrap_lines.append('0')\n",
        "          if corretagem_bovespa[-1] == 'C\\n':\n",
        "            scrap_lines.append('+'+liquido_operacao[-2])\n",
        "            if tipo_mercado[2] == 'OPCAO': \n",
        "              scrap_lines.append(str(float(liquido_operacao[-2].replace('|', '').replace(',', '.'))*0.15))\n",
        "            else:\n",
        "              scrap_lines.append('0')\n",
        "          scrap_lines.append(liquido_operacao[-3])\n",
        "\n"
      ],
      "execution_count": null,
      "outputs": [
        {
          "output_type": "stream",
          "name": "stdout",
          "text": [
            "['Q', 'Negociação', 'C/V', 'Tipo', 'Mercado', 'Prazo', 'Especificação', 'do', 'título', 'Obs.(*)', 'Quantidade', 'Preço', '/', 'Ajuste', 'Valor', 'Operação', '/', 'Ajuste', 'D/C\\n']\n",
            "['1-BOVESPA', 'C', 'VISTA', 'VIA', 'ON', 'NM', '1200', '9,27', '11.124,00', 'D\\n']\n",
            "['Compras', 'à', 'Vista', '11.124,00', 'Valor', 'líquido', 'das', 'operações', '48,00|', 'D\\n']\n",
            "['Compras', 'à', 'futuro', '0,00', 'Total', 'CBLC', '53,55|', 'D\\n']\n",
            "['Valor', 'das', 'Operações', '22.200,00', 'Total', 'Bovespa', '/', 'Soma', '1,11|', 'D\\n']\n",
            "['Total', 'corretagem', '/', 'Despesas', '30,45|', 'D\\n']\n",
            "['(*)', '-', 'Observações:', 'A', '-', 'Posição', 'Futuro', 'T', '-', 'Liquidação', 'pelo', 'Bruto', 'Líquido', 'para', '15/09/2021', '85,11|', 'D\\n']\n",
            "['Q', 'Negociação', 'C/V', 'Tipo', 'Mercado', 'Prazo', 'Especificação', 'do', 'título', 'Obs.(*)', 'Quantidade', 'Preço', '/', 'Ajuste', 'Valor', 'Operação', '/', 'Ajuste', 'D/C\\n']\n",
            "['1-BOVESPA', 'V', 'OPCAO', 'DE', 'COMPRA', '10/21', 'VIIAJ960', 'ON', '9,60', 'VIIA', 'FM', '1200', '0,58', '696,00', 'C\\n']\n",
            "['Compras', 'à', 'Vista', '0,00', 'Valor', 'líquido', 'das', 'operações', '696,00|', 'C\\n']\n",
            "['Compras', 'à', 'futuro', '0,00', 'Total', 'CBLC', '695,33|', 'C\\n']\n",
            "['Valor', 'das', 'Operações', '696,00', 'Total', 'Bovespa', '/', 'Soma', '0,25|', 'D\\n']\n",
            "['Total', 'corretagem', '/', 'Despesas', '7,87|', 'D\\n']\n",
            "['(*)', '-', 'Observações:', 'A', '-', 'Posição', 'Futuro', 'T', '-', 'Liquidação', 'pelo', 'Bruto', 'Líquido', 'para', '14/09/2021', '687,21|', 'C\\n']\n"
          ]
        }
      ]
    },
    {
      "cell_type": "markdown",
      "metadata": {
        "id": "YZvuLU2VdsfH"
      },
      "source": [
        "# Montar matriz"
      ]
    },
    {
      "cell_type": "code",
      "metadata": {
        "colab": {
          "base_uri": "https://localhost:8080/"
        },
        "id": "KWMcVBSxdppf",
        "outputId": "404d4fe1-02fc-424b-8e13-4581ea3999fb"
      },
      "source": [
        "matriz = []\n",
        "matriz.append(['Tipo operação', 'Valor Líquido das Operações', 'Total CBLC',  'Total Bovespa', 'Total Corretagem', 'Soma despesas (Bugado)', 'Líquido com descontos', 'Taxa para Pagar IR 6015', 'Data operação'])\n",
        "print(scrap_lines)\n",
        "\n",
        "scrap_lines = list(map(lambda x: x.replace(\"\\n\", \"\"), scrap_lines))\n",
        "scrap_lines = list(map(lambda x: x.replace(\"|\", \"\"), scrap_lines))\n",
        "scrap_lines = list(map(lambda x: x.replace(\".\", \",\"), scrap_lines))\n",
        "print(scrap_lines)\n",
        "\n",
        "number_lists = int(len(scrap_lines)/9)\n",
        "for i in range(number_lists+1):\n",
        "  if i != 0:\n",
        "    matriz.append(scrap_lines[(i-1)*9:i*9])\n",
        "print(matriz)"
      ],
      "execution_count": null,
      "outputs": [
        {
          "output_type": "stream",
          "name": "stdout",
          "text": [
            "['VISTA', '-48,00', '-53,55', '-1,11', '-30,45', '85.11', '-85,11', '0', '15/09/2021', 'OPCAO', '+696,00', '+695,33', '-0,25', '-7,87', '703.45', '-687,21', '103.0815', '14/09/2021']\n",
            "['VISTA', '-48,00', '-53,55', '-1,11', '-30,45', '85,11', '-85,11', '0', '15/09/2021', 'OPCAO', '+696,00', '+695,33', '-0,25', '-7,87', '703,45', '-687,21', '103,0815', '14/09/2021']\n",
            "[['Tipo operação', 'Valor Líquido das Operações', 'Total CBLC', 'Total Bovespa', 'Total Corretagem', 'Soma despesas (Bugado)', 'Líquido com descontos', 'Taxa para Pagar IR 6015', 'Data operação'], ['VISTA', '-48,00', '-53,55', '-1,11', '-30,45', '85,11', '-85,11', '0', '15/09/2021'], ['OPCAO', '+696,00', '+695,33', '-0,25', '-7,87', '703,45', '-687,21', '103,0815', '14/09/2021']]\n"
          ]
        }
      ]
    },
    {
      "cell_type": "markdown",
      "metadata": {
        "id": "4_FIGkrRqKhJ"
      },
      "source": [
        "# Gerar excel"
      ]
    },
    {
      "cell_type": "code",
      "metadata": {
        "id": "HT-d8cgzqJkm"
      },
      "source": [
        "# import numpy\n",
        "import pandas as pd\n",
        "# a = numpy.asarray(scrap_lines)\n",
        "# a = a.reshape((2, 8))\n",
        "pd.DataFrame(matriz).to_csv(\"/content/drive/MyDrive/Investimento/Imposto/Notas/2021/TERRA/OUT/output.xlsx\")\n",
        "pd.DataFrame(matriz).to_csv(\"/content/drive/MyDrive/Investimento/Imposto/Notas/2021/TERRA/OUT/output.csv\")\n"
      ],
      "execution_count": null,
      "outputs": []
    },
    {
      "cell_type": "markdown",
      "metadata": {
        "id": "wu_UetRgEOjG"
      },
      "source": [
        "\n",
        "\n",
        "\n",
        "```\n",
        "# This is formatted as code\n",
        "Falta a especificação do título (ativo/opção)\n",
        "Detalhes sobre a operação \n",
        "( \n",
        "  call/put \n",
        "  (venda/compra) \n",
        "  (vencimento) \n",
        "  quantidade\n",
        ")\n",
        "\n",
        "Ler várias notas automaticamente\n",
        "\n",
        "```\n",
        "\n"
      ]
    }
  ]
}